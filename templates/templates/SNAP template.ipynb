{
 "cells": [
  {
   "cell_type": "markdown",
   "metadata": {},
   "source": [
    "## SNAP"
   ]
  },
  {
   "cell_type": "markdown",
   "metadata": {},
   "source": [
    "Install snap using conda with:\n",
    "\n",
    "* in a new conda environment\n",
    "\n",
    "```bash\n",
    "conda create -n env_snap -y snap ipykernel\n",
    "```\n",
    "\n",
    "* in an existing conda environmnt\n",
    "\n",
    "```bash\n",
    "conda install -n <env name> -y snap\n",
    "```\n",
    "\n",
    "> Note: the existing conda environment must have ipykernel included"
   ]
  },
  {
   "cell_type": "code",
   "execution_count": null,
   "metadata": {},
   "outputs": [],
   "source": [
    "import os\n",
    "import sys\n",
    "import subprocess\n",
    "import snappy"
   ]
  },
  {
   "cell_type": "code",
   "execution_count": null,
   "metadata": {},
   "outputs": [],
   "source": [
    "%load_ext autoreload\n",
    "%autoreload 2"
   ]
  },
  {
   "cell_type": "code",
   "execution_count": null,
   "metadata": {},
   "outputs": [],
   "source": [
    "sys.path.append(os.getcwd())"
   ]
  },
  {
   "cell_type": "code",
   "execution_count": null,
   "metadata": {},
   "outputs": [],
   "source": [
    "if not 'PREFIX' in os.environ.keys():\n",
    "    \n",
    "    #set the PREFIX environment variable to \n",
    "    #the conda environment where snap was installed in.\n",
    "    # e.g. /opt/anaconda/envs/<env name>\n",
    "    \n",
    "    os.environ['PREFIX'] = 'path to conda env'"
   ]
  },
  {
   "cell_type": "code",
   "execution_count": null,
   "metadata": {},
   "outputs": [],
   "source": [
    "def run_graph(graph_path):\n",
    "    \n",
    "    gpt_bin = os.path.join(os.environ['PREFIX'], 'snap', 'bin', 'gpt')\n",
    "    \n",
    "    options = [gpt_bin,\n",
    "               '-x',\n",
    "               '-c',\n",
    "               '2048M',\n",
    "               graph_path]\n",
    "\n",
    "    p = subprocess.Popen(options,\n",
    "                         stdout=subprocess.PIPE, \n",
    "                         stdin=subprocess.PIPE, \n",
    "                         stderr=subprocess.PIPE)\n",
    "\n",
    "    print('Process PID: %s' % p.pid)\n",
    "    res, err = p.communicate()\n",
    "    \n",
    "    return res, err"
   ]
  },
  {
   "cell_type": "code",
   "execution_count": null,
   "metadata": {},
   "outputs": [],
   "source": []
  }
 ],
 "metadata": {
  "kernelspec": {
   "display_name": "Python 2",
   "language": "python",
   "name": "python2"
  },
  "language_info": {
   "codemirror_mode": {
    "name": "ipython",
    "version": 2
   },
   "file_extension": ".py",
   "mimetype": "text/x-python",
   "name": "python",
   "nbconvert_exporter": "python",
   "pygments_lexer": "ipython2",
   "version": "2.7.13"
  }
 },
 "nbformat": 4,
 "nbformat_minor": 2
}
