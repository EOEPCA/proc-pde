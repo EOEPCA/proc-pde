{
 "cells": [
  {
   "cell_type": "markdown",
   "metadata": {},
   "source": [
    "## Orfeo Toolbox"
   ]
  },
  {
   "cell_type": "markdown",
   "metadata": {},
   "source": [
    "Install snap using conda with:\n",
    "\n",
    "* in a new conda environment\n",
    "\n",
    "```bash\n",
    "conda create -n env_otb otb\n",
    "```\n",
    "\n",
    "* in an existing conda environmnt\n",
    "\n",
    "```bash\n",
    "conda install -n <env name> -y otb\n",
    "```"
   ]
  },
  {
   "cell_type": "code",
   "execution_count": null,
   "metadata": {},
   "outputs": [],
   "source": [
    "import os\n",
    "import sys"
   ]
  },
  {
   "cell_type": "code",
   "execution_count": null,
   "metadata": {},
   "outputs": [],
   "source": [
    "%load_ext autoreload\n",
    "%autoreload 2"
   ]
  },
  {
   "cell_type": "code",
   "execution_count": null,
   "metadata": {},
   "outputs": [],
   "source": [
    "sys.path.append(os.getcwd())"
   ]
  },
  {
   "cell_type": "code",
   "execution_count": null,
   "metadata": {},
   "outputs": [],
   "source": [
    "if not 'PREFIX' in os.environ.keys():\n",
    "    \n",
    "    #set the PREFIX environment variable to \n",
    "    #the conda environment where snap was installed in.\n",
    "    # e.g. /opt/anaconda/envs/<env name>\n",
    "    \n",
    "    os.environ['PREFIX'] = 'path to conda env'"
   ]
  },
  {
   "cell_type": "code",
   "execution_count": null,
   "metadata": {},
   "outputs": [],
   "source": [
    "sys.path.append(os.path.join(os.environ['PREFIX'], \n",
    "                             'conda-otb/lib/python'))\n",
    "\n",
    "os.environ['OTB_APPLICATION_PATH'] = os.path.join(os.environ['PREFIX'],\n",
    "                                                  'conda-otb/lib/otb/applications')\n",
    "\n",
    "os.environ['GDAL_DATA'] =  os.path.join(os.environ['PREFIX'], \n",
    "                                        'share/gdal')\n",
    "\n",
    "import otbApplication"
   ]
  }
 ],
 "metadata": {
  "kernelspec": {
   "display_name": "Ellip",
   "language": "python",
   "name": "ellip"
  },
  "language_info": {
   "codemirror_mode": {
    "name": "ipython",
    "version": 3
   },
   "file_extension": ".py",
   "mimetype": "text/x-python",
   "name": "python",
   "nbconvert_exporter": "python",
   "pygments_lexer": "ipython3",
   "version": "3.7.5"
  }
 },
 "nbformat": 4,
 "nbformat_minor": 2
}
