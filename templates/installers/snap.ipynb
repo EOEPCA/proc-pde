{
 "cells": [
  {
   "cell_type": "markdown",
   "metadata": {},
   "source": [
    "## SNAP and snappy installation"
   ]
  },
  {
   "cell_type": "code",
   "execution_count": 3,
   "metadata": {},
   "outputs": [
    {
     "name": "stdout",
     "output_type": "stream",
     "text": [
      "Collecting package metadata (current_repodata.json): done\n",
      "Solving environment: done\n",
      "\n",
      "\n",
      "==> WARNING: A newer version of conda exists. <==\n",
      "  current version: 4.8.2\n",
      "  latest version: 4.8.3\n",
      "\n",
      "Please update conda by running\n",
      "\n",
      "    $ conda update -n base conda\n",
      "\n",
      "\n",
      "\n",
      "## Package Plan ##\n",
      "\n",
      "  environment location: /opt/anaconda/envs/env_snap\n",
      "\n",
      "  added / updated specs:\n",
      "    - ipykernel\n",
      "    - snap\n",
      "\n",
      "\n",
      "The following packages will be downloaded:\n",
      "\n",
      "    package                    |            build\n",
      "    ---------------------------|-----------------\n",
      "    _openmp_mutex-4.5          |            0_gnu         435 KB  conda-forge\n",
      "    ca-certificates-cos6-x86_64-2016.2.10|       h4d6d018_0         513 KB  defaults\n",
      "    certifi-2020.4.5.1         |   py37hc8dfbb8_0         151 KB  conda-forge\n",
      "    entrypoints-0.3            |py37hc8dfbb8_1001          12 KB  conda-forge\n",
      "    ipykernel-5.2.1            |   py37h43977f1_0         162 KB  conda-forge\n",
      "    ipython-7.14.0             |   py37hc8dfbb8_0         1.1 MB  conda-forge\n",
      "    java-1.7.0-openjdk-cos6-x86_64-1.7.0.131|       h06d78d4_0        28.3 MB  defaults\n",
      "    jedi-0.17.0                |   py37hc8dfbb8_0         807 KB  conda-forge\n",
      "    jpackage-utils-cos6-x86_64-1.7.5|       ha353daa_0          37 KB  defaults\n",
      "    jpy-0.9.0                  |           py37_2         201 KB  terradue\n",
      "    jupyter_core-4.6.3         |   py37hc8dfbb8_1          71 KB  conda-forge\n",
      "    libgomp-9.2.0              |       h24d8f2e_2         816 KB  conda-forge\n",
      "    libjpeg-turbo-cos6-x86_64-1.2.1|       h24432d5_0         176 KB  defaults\n",
      "    p11-kit-cos6-x86_64-0.18.5 |       he72ed6d_0          92 KB  defaults\n",
      "    p11-kit-trust-cos6-x86_64-0.18.5|       h140be7e_0          71 KB  defaults\n",
      "    pexpect-4.8.0              |   py37hc8dfbb8_1          79 KB  conda-forge\n",
      "    pickleshare-0.7.5          |py37hc8dfbb8_1001          13 KB  conda-forge\n",
      "    python-3.7.6               |h8356626_5_cpython        52.9 MB  conda-forge\n",
      "    python_abi-3.7             |          1_cp37m           4 KB  conda-forge\n",
      "    pyzmq-19.0.1               |   py37hac76be4_0         519 KB  conda-forge\n",
      "    setuptools-46.1.3          |   py37hc8dfbb8_0         634 KB  conda-forge\n",
      "    snap-7.0.0                 |          py37_22       664.2 MB  terradue\n",
      "    tornado-6.0.4              |   py37h8f50634_1         639 KB  conda-forge\n",
      "    traitlets-4.3.3            |   py37hc8dfbb8_1         133 KB  conda-forge\n",
      "    ------------------------------------------------------------\n",
      "                                           Total:       751.9 MB\n",
      "\n",
      "The following NEW packages will be INSTALLED:\n",
      "\n",
      "  _libgcc_mutex      conda-forge/linux-64::_libgcc_mutex-0.1-conda_forge\n",
      "  _openmp_mutex      conda-forge/linux-64::_openmp_mutex-4.5-0_gnu\n",
      "  backcall           conda-forge/noarch::backcall-0.1.0-py_0\n",
      "  ca-certificates    conda-forge/linux-64::ca-certificates-2020.4.5.1-hecc5488_0\n",
      "  ca-certificates-c~ pkgs/main/noarch::ca-certificates-cos6-x86_64-2016.2.10-h4d6d018_0\n",
      "  certifi            conda-forge/linux-64::certifi-2020.4.5.1-py37hc8dfbb8_0\n",
      "  decorator          conda-forge/noarch::decorator-4.4.2-py_0\n",
      "  entrypoints        conda-forge/linux-64::entrypoints-0.3-py37hc8dfbb8_1001\n",
      "  ipykernel          conda-forge/linux-64::ipykernel-5.2.1-py37h43977f1_0\n",
      "  ipython            conda-forge/linux-64::ipython-7.14.0-py37hc8dfbb8_0\n",
      "  ipython_genutils   conda-forge/noarch::ipython_genutils-0.2.0-py_1\n",
      "  java-1.7.0-openjd~ pkgs/main/noarch::java-1.7.0-openjdk-cos6-x86_64-1.7.0.131-h06d78d4_0\n",
      "  jedi               conda-forge/linux-64::jedi-0.17.0-py37hc8dfbb8_0\n",
      "  jpackage-utils-co~ pkgs/main/noarch::jpackage-utils-cos6-x86_64-1.7.5-ha353daa_0\n",
      "  jpy                terradue/linux-64::jpy-0.9.0-py37_2\n",
      "  jupyter_client     conda-forge/noarch::jupyter_client-6.1.3-py_0\n",
      "  jupyter_core       conda-forge/linux-64::jupyter_core-4.6.3-py37hc8dfbb8_1\n",
      "  ld_impl_linux-64   conda-forge/linux-64::ld_impl_linux-64-2.34-h53a641e_0\n",
      "  libffi             conda-forge/linux-64::libffi-3.2.1-he1b5a44_1007\n",
      "  libgcc-ng          conda-forge/linux-64::libgcc-ng-9.2.0-h24d8f2e_2\n",
      "  libgomp            conda-forge/linux-64::libgomp-9.2.0-h24d8f2e_2\n",
      "  libjpeg-turbo-cos~ pkgs/main/noarch::libjpeg-turbo-cos6-x86_64-1.2.1-h24432d5_0\n",
      "  libsodium          conda-forge/linux-64::libsodium-1.0.17-h516909a_0\n",
      "  libstdcxx-ng       conda-forge/linux-64::libstdcxx-ng-9.2.0-hdf63c60_2\n",
      "  ncurses            conda-forge/linux-64::ncurses-6.1-hf484d3e_1002\n",
      "  openssl            conda-forge/linux-64::openssl-1.1.1g-h516909a_0\n",
      "  p11-kit-cos6-x86_~ pkgs/main/noarch::p11-kit-cos6-x86_64-0.18.5-he72ed6d_0\n",
      "  p11-kit-trust-cos~ pkgs/main/noarch::p11-kit-trust-cos6-x86_64-0.18.5-h140be7e_0\n",
      "  parso              conda-forge/noarch::parso-0.7.0-pyh9f0ad1d_0\n",
      "  pexpect            conda-forge/linux-64::pexpect-4.8.0-py37hc8dfbb8_1\n",
      "  pickleshare        conda-forge/linux-64::pickleshare-0.7.5-py37hc8dfbb8_1001\n",
      "  pip                conda-forge/noarch::pip-20.1-pyh9f0ad1d_0\n",
      "  prompt-toolkit     conda-forge/noarch::prompt-toolkit-3.0.5-py_0\n",
      "  ptyprocess         conda-forge/noarch::ptyprocess-0.6.0-py_1001\n",
      "  pygments           conda-forge/noarch::pygments-2.6.1-py_0\n",
      "  python             conda-forge/linux-64::python-3.7.6-h8356626_5_cpython\n",
      "  python-dateutil    conda-forge/noarch::python-dateutil-2.8.1-py_0\n",
      "  python_abi         conda-forge/linux-64::python_abi-3.7-1_cp37m\n",
      "  pyzmq              conda-forge/linux-64::pyzmq-19.0.1-py37hac76be4_0\n",
      "  readline           conda-forge/linux-64::readline-8.0-hf8c457e_0\n",
      "  setuptools         conda-forge/linux-64::setuptools-46.1.3-py37hc8dfbb8_0\n",
      "  six                conda-forge/noarch::six-1.14.0-py_1\n",
      "  snap               terradue/linux-64::snap-7.0.0-py37_22\n",
      "  sqlite             conda-forge/linux-64::sqlite-3.30.1-hcee41ef_0\n",
      "  tk                 conda-forge/linux-64::tk-8.6.10-hed695b0_0\n",
      "  tornado            conda-forge/linux-64::tornado-6.0.4-py37h8f50634_1\n",
      "  traitlets          conda-forge/linux-64::traitlets-4.3.3-py37hc8dfbb8_1\n",
      "  wcwidth            conda-forge/noarch::wcwidth-0.1.9-pyh9f0ad1d_0\n",
      "  wheel              conda-forge/noarch::wheel-0.34.2-py_1\n",
      "  xz                 conda-forge/linux-64::xz-5.2.5-h516909a_0\n",
      "  zeromq             conda-forge/linux-64::zeromq-4.3.2-he1b5a44_2\n",
      "  zlib               conda-forge/linux-64::zlib-1.2.11-h516909a_1006\n",
      "\n",
      "\n",
      "\n",
      "Downloading and Extracting Packages\n",
      "certifi-2020.4.5.1   | 151 KB    | ##################################### | 100% \n",
      "pexpect-4.8.0        | 79 KB     | ##################################### | 100% \n",
      "traitlets-4.3.3      | 133 KB    | ##################################### | 100% \n",
      "ca-certificates-cos6 | 513 KB    | ##################################### | 100% \n",
      "ipython-7.14.0       | 1.1 MB    | ##################################### | 100% \n",
      "libjpeg-turbo-cos6-x | 176 KB    | ##################################### | 100% \n",
      "jedi-0.17.0          | 807 KB    | ##################################### | 100% \n",
      "entrypoints-0.3      | 12 KB     | ##################################### | 100% \n",
      "tornado-6.0.4        | 639 KB    | ##################################### | 100% \n",
      "jpy-0.9.0            | 201 KB    | ##################################### | 100% \n",
      "jupyter_core-4.6.3   | 71 KB     | ##################################### | 100% \n",
      "libgomp-9.2.0        | 816 KB    | ##################################### | 100% \n",
      "pickleshare-0.7.5    | 13 KB     | ##################################### | 100% \n",
      "snap-7.0.0           | 664.2 MB  | ##################################### | 100% \n",
      "_openmp_mutex-4.5    | 435 KB    | ##################################### | 100% \n",
      "p11-kit-cos6-x86_64- | 92 KB     | ##################################### | 100% \n",
      "setuptools-46.1.3    | 634 KB    | ##################################### | 100% \n",
      "p11-kit-trust-cos6-x | 71 KB     | ##################################### | 100% \n",
      "ipykernel-5.2.1      | 162 KB    | ##################################### | 100% \n",
      "pyzmq-19.0.1         | 519 KB    | ##################################### | 100% \n",
      "python-3.7.6         | 52.9 MB   | ##################################### | 100% \n",
      "python_abi-3.7       | 4 KB      | ##################################### | 100% \n",
      "jpackage-utils-cos6- | 37 KB     | ##################################### | 100% \n",
      "java-1.7.0-openjdk-c | 28.3 MB   | ##################################### | 100% \n",
      "Preparing transaction: done\n",
      "Verifying transaction: done\n",
      "Executing transaction: \\ b\"Unpacking JRE ...\\nPreparing JRE ...\\nStarting Installer ...\\nThe installation directory has been set to /opt/anaconda/envs/env_snap/snap.\\nExtracting files ...\\nFinishing installation ...\\nSNAP_HOME is /opt/anaconda/envs/env_snap/snap/.snap\\nupdating snap.userdir in  /opt/anaconda/envs/env_snap/snap/etc/snap.properties \\nupdating default_userdir in /opt/anaconda/envs/env_snap/snap/etc/snap.conf \\nupdating snap modules\\nGive read/write permissions for snap home folder\\nsetting python_version variable\\npython_version is 3.7 \\ncreating /opt/anaconda/envs/env_snap/snap/.snap/snap-python/snappy directory\\nCopying /opt/anaconda/envs/env_snap/jpy_wheel/jpy-0.9.0-cp37-cp37m-linux_x86_64.whl to /opt/anaconda/envs/env_snap/snap/.snap/snap-python/snappy/jpy-0.9.0-cp37-cp37m-linux_x86_64.whl\\nrunning: cp /opt/anaconda/envs/env_snap/jpy_wheel/jpy-0.9.0-cp37-cp37m-linux_x86_64.whl /opt/anaconda/envs/env_snap/snap/.snap/snap-python/snappy/jpy-0.9.0-cp37-cp37m-linux_x86_64.whl\\nrunning snappy-conf: /opt/anaconda/envs/env_snap/snap/bin/snappy-conf /opt/anaconda/envs/env_snap/bin/python\\n/opt/anaconda/envs/env_snap/snap/bin/../platform/lib/nbexec: WARNING: environment variable DISPLAY is not set\\nConfiguring SNAP-Python interface...\\nDone. The SNAP-Python interface is located in '/opt/anaconda/envs/env_snap/snap/.snap/snap-python/snappy'\\nWhen using SNAP from Python, either do: sys.path.append('/opt/anaconda/envs/env_snap/snap/.snap/snap-python')\\nor copy the 'snappy' module into your Python's 'site-packages' directory.\\nSetting execution permissions to gdal.jar\\n\"\n",
      "done\n",
      "#\n",
      "# To activate this environment, use\n",
      "#\n",
      "#     $ conda activate env_snap\n",
      "#\n",
      "# To deactivate an active environment, use\n",
      "#\n",
      "#     $ conda deactivate\n",
      "\n"
     ]
    }
   ],
   "source": [
    "conda create -n env_snap -y -c terradue -c conda-forge snap ipykernel \n"
   ]
  },
  {
   "cell_type": "code",
   "execution_count": 6,
   "metadata": {},
   "outputs": [
    {
     "name": "stdout",
     "output_type": "stream",
     "text": [
      "# conda environments:\n",
      "#\n",
      "base                  *  /opt/anaconda\n",
      "env-binder               /opt/anaconda/envs/env-binder\n",
      "env_snap                 /opt/anaconda/envs/env_snap\n",
      "notebook                 /opt/anaconda/envs/notebook\n",
      "\n"
     ]
    }
   ],
   "source": [
    "conda env list"
   ]
  },
  {
   "cell_type": "code",
   "execution_count": 7,
   "metadata": {},
   "outputs": [
    {
     "name": "stdout",
     "output_type": "stream",
     "text": [
      "Installed kernelspec snap_kernel in /usr/local/share/jupyter/kernels/snap_kernel\n"
     ]
    }
   ],
   "source": [
    "/opt/anaconda/envs/env_snap/bin/python -m ipykernel install --name snap_kernel"
   ]
  },
  {
   "cell_type": "code",
   "execution_count": null,
   "metadata": {},
   "outputs": [],
   "source": []
  }
 ],
 "metadata": {
  "kernelspec": {
   "display_name": "Bash",
   "language": "bash",
   "name": "bash"
  },
  "language_info": {
   "codemirror_mode": "shell",
   "file_extension": ".sh",
   "mimetype": "text/x-sh",
   "name": "bash"
  }
 },
 "nbformat": 4,
 "nbformat_minor": 4
}
